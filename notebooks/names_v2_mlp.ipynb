{
 "cells": [
  {
   "cell_type": "markdown",
   "id": "9f0d1937",
   "metadata": {},
   "source": [
    "# Names Generator v2 - MLP\n",
    "\n",
    "### Context:\n",
    "\n",
    "A Neural Probabilistic Language Model (Bengio et al., 2003)\n",
    "https://www.jmlr.org/papers/volume3/bengio03a/bengio03a.pdf\n",
    "\n",
    "Statistical language modeling aims to learn the probability of word sequences, but faces the curse of dimensionality since  sequences the model is tested on often differ from those seen in training. This paper addresses this by **learning distributed word representations**, so each sentence in training informs the model about many semantically related ones. The model learns (1) vector representations of words and (2) the probability of word sequences using these vectors. This enables generalization, as unseen sentences can still receive high probability if their words are similar to those in known sentences.\n",
    "\n",
    "Eg. Model sees: A dog is running in a ___. \n",
    "* Model hasnt encountered it in training set - out of distribution \n",
    "* But it has seen similar sequences in training - The dog... or A cat... walking - can use it to generalise\n",
    "\n",
    "**Model in the paper**: \n",
    "1. **Input**: Index of incoming word (int betweeen 0 to 16999, vocab_size = 17000 words). If they take block size of 3 (context window = 3 words), then they have 3 inputs\n",
    "2. **Lookup table C** - matrix 17000 by 30. Each index corresponds to a row in the matrix, which corresponds to a 30 dimentional vector represents the embedding vector for that word. If context window = 3 words, then they have 3x30 = 90 numbers\n",
    "3. **Hidden layer** - hyperparameter - size eg. 100 neurons. All of the 100 neurons will be fully connected to the 90 numbers that make up the 3 words.  \n",
    "4. **Output layer**: Because there are 17000 possible words that could come next, hence output layer has 17000 neurons, all fully connected to neurons in hidden layer. They output 17000 logits. \n",
    "5. **Softmax layer**: All 17000 logits are exponentiated to make probabilities \n",
    "\n",
    "Params: w&b of output layer, hidden layers and C. all optimised using back prop"
   ]
  },
  {
   "cell_type": "markdown",
   "id": "111a9736",
   "metadata": {},
   "source": [
    "### Our model \n",
    "\n",
    "In this v2, we want to build a model with a vocab_size of 27 characters, to be embedded into a 2d space.\n",
    "\n",
    "**Our model**: \n",
    "1. **Input** - Blocks: If we take a block_size = 3 (context window has 3 chars) , then we have 3 inputs\n",
    "\n",
    "2. **Embedding layer** - Each character will get a 2 dimensional embedding vector. Embedding table is a 27 by 2 matrix\n",
    "\n",
    "3. **Hidden layer** - 100 neurons, fully connected to the 6 numbers that make up the 3 words (3*2)\n",
    "\n",
    "4. **Output layer** - 27 neurons to output 27 logits (one for each possible next char), fully connected to the 100 neurons above.\n",
    "\n",
    "5. **Softmax layer** - The 27 logits are exponentiated and divided to make probabilities"
   ]
  },
  {
   "cell_type": "code",
   "execution_count": 2,
   "id": "e4e3cd90",
   "metadata": {},
   "outputs": [
    {
     "data": {
      "text/plain": [
       "['emma', 'olivia', 'ava']"
      ]
     },
     "execution_count": 2,
     "metadata": {},
     "output_type": "execute_result"
    }
   ],
   "source": [
    "# Imports\n",
    "\n",
    "import torch \n",
    "import torch.nn.functional as F \n",
    "import matplotlib.pyplot as plt \n",
    "%matplotlib inline \n",
    "\n",
    "# Read words \n",
    "words = open('data/names.txt', 'r').read().splitlines()\n",
    "words[:3]"
   ]
  },
  {
   "cell_type": "code",
   "execution_count": null,
   "id": "a0492312",
   "metadata": {},
   "outputs": [
    {
     "data": {
      "text/plain": [
       "32033"
      ]
     },
     "execution_count": 5,
     "metadata": {},
     "output_type": "execute_result"
    }
   ],
   "source": [
    "len(words)"
   ]
  },
  {
   "cell_type": "code",
   "execution_count": 6,
   "id": "12a00b81",
   "metadata": {},
   "outputs": [
    {
     "name": "stdout",
     "output_type": "stream",
     "text": [
      "{1: 'a', 2: 'b', 3: 'c', 4: 'd', 5: 'e', 6: 'f', 7: 'g', 8: 'h', 9: 'i', 10: 'j', 11: 'k', 12: 'l', 13: 'm', 14: 'n', 15: 'o', 16: 'p', 17: 'q', 18: 'r', 19: 's', 20: 't', 21: 'u', 22: 'v', 23: 'w', 24: 'x', 25: 'y', 26: 'z', 0: '.'}\n"
     ]
    }
   ],
   "source": [
    "# build vocab of characters and mapping to/fr integers \n",
    "chars = sorted(list(set(''.join(words))))\n",
    "stoi = {s:i+1 for i,s in enumerate(chars)}\n",
    "stoi['.'] = 0 \n",
    "itos = {i:s for s,i in stoi.items()}\n",
    "print(itos)"
   ]
  },
  {
   "cell_type": "code",
   "execution_count": 107,
   "id": "4226519f",
   "metadata": {},
   "outputs": [
    {
     "name": "stdout",
     "output_type": "stream",
     "text": [
      "torch.Size([182437, 3]) torch.Size([182437])\n",
      "torch.Size([22781, 3]) torch.Size([22781])\n",
      "torch.Size([22928, 3]) torch.Size([22928])\n"
     ]
    }
   ],
   "source": [
    "# Build training dataset (inputs X, targets Y) \n",
    "\n",
    "def build_dataset(words):\n",
    "    block_size = 3 # num chars in context \n",
    "\n",
    "    X, Y = [], [] \n",
    "\n",
    "    for w in words[:]: \n",
    "        #print(w)\n",
    "        context = [0]* block_size\n",
    "        for ch in w + '.': \n",
    "            ix = stoi[ch]\n",
    "            X.append(context)\n",
    "            Y.append(ix)\n",
    "            #print(''.join(itos[i] for i in context), '-->', itos[ix])\n",
    "            context = context[1:] + [ix] #crop context and put next char in\n",
    "\n",
    "    X = torch.tensor(X) \n",
    "    Y = torch.tensor(Y)\n",
    "    print(X.shape, Y.shape)\n",
    "    return X, Y\n",
    "\n",
    "# Train Validation Test split \n",
    "import random \n",
    "random.seed(42)\n",
    "random.shuffle(words)\n",
    "n1 = int(0.8*len(words))\n",
    "n2 = int(0.9*len(words))\n",
    "\n",
    "Xtr, Ytr = build_dataset(words[:n1]) # 80%\n",
    "Xdev, Ydev = build_dataset(words[n1:n2]) # 10%\n",
    "Xte, Yte = build_dataset(words[n2:]) # 10%\n"
   ]
  },
  {
   "cell_type": "markdown",
   "id": "9e2bd58d",
   "metadata": {},
   "source": [
    "With print statements above, output: \n",
    "\n",
    "```\n",
    "emma\n",
    "... --> e\n",
    "..e --> m\n",
    ".em --> m\n",
    "emm --> a\n",
    "mma --> .\n",
    "```"
   ]
  },
  {
   "cell_type": "code",
   "execution_count": 10,
   "id": "0acec779",
   "metadata": {},
   "outputs": [
    {
     "data": {
      "text/plain": [
       "(torch.Size([32, 3]), torch.int64, torch.Size([32]), torch.int64)"
      ]
     },
     "execution_count": 10,
     "metadata": {},
     "output_type": "execute_result"
    }
   ],
   "source": [
    "X.shape, X.dtype, Y.shape, Y.dtype"
   ]
  },
  {
   "cell_type": "code",
   "execution_count": null,
   "id": "60e40b8a",
   "metadata": {},
   "outputs": [
    {
     "data": {
      "text/plain": [
       "tensor([[ 0.4069, -2.3346],\n",
       "        [-1.8794,  0.2269],\n",
       "        [ 0.5644, -0.5032],\n",
       "        [-0.5155, -0.1953],\n",
       "        [ 0.2361, -1.4833],\n",
       "        [ 1.3550,  0.0398],\n",
       "        [ 0.4311, -0.2340],\n",
       "        [-0.8712, -0.4921],\n",
       "        [ 0.5376, -0.7245],\n",
       "        [-1.5883,  0.1400],\n",
       "        [ 0.3352, -0.5286],\n",
       "        [ 0.0840, -0.4036],\n",
       "        [ 1.7176,  0.5515],\n",
       "        [ 0.2470, -1.3261],\n",
       "        [ 0.5563,  0.3091],\n",
       "        [-0.2694,  0.5123],\n",
       "        [-0.1206, -0.7983],\n",
       "        [ 0.3339, -0.7019],\n",
       "        [ 0.4411, -0.0097],\n",
       "        [-0.4183, -1.0344],\n",
       "        [ 1.0745, -0.4926],\n",
       "        [-0.6907,  0.7989],\n",
       "        [-1.1204,  1.1736],\n",
       "        [-0.3679, -0.6478],\n",
       "        [-0.2562,  1.4005],\n",
       "        [-0.2601, -0.2399],\n",
       "        [-1.0462, -0.5392]])"
      ]
     },
     "execution_count": 11,
     "metadata": {},
     "output_type": "execute_result"
    }
   ],
   "source": [
    "# Lookup table: each one of the 27 chars will have a 2d vector embedding\n",
    "C = torch.randn([27, 2])"
   ]
  },
  {
   "cell_type": "code",
   "execution_count": 16,
   "id": "e43bc458",
   "metadata": {},
   "outputs": [
    {
     "data": {
      "text/plain": [
       "torch.Size([32, 3, 2])"
      ]
     },
     "execution_count": 16,
     "metadata": {},
     "output_type": "execute_result"
    }
   ],
   "source": [
    "# Get embedding from lookup table \n",
    "# Get embedding of char 2: C[2] or one hot encoding (0,1,0,0...)@C\n",
    "# Get embeddings of 32*3 characters:  C[X]\n",
    "emb = C[X]\n",
    "emb.shape "
   ]
  },
  {
   "cell_type": "markdown",
   "id": "1217846a",
   "metadata": {},
   "source": [
    "C[X] returns the embedding for each of the 32*3 chars.\n",
    "13th example 3rd char = X[13,2] = tensor(1) --> char a\n",
    "C[X][13,2] = C[1] = tensor([1.0015, -0.3502]) --> the embedding "
   ]
  },
  {
   "cell_type": "code",
   "execution_count": 28,
   "id": "8262d6c7",
   "metadata": {},
   "outputs": [
    {
     "data": {
      "text/plain": [
       "torch.Size([32, 100])"
      ]
     },
     "execution_count": 28,
     "metadata": {},
     "output_type": "execute_result"
    }
   ],
   "source": [
    "# Hidden layer\n",
    "\n",
    "# Setting up params \n",
    "# -- num of weights per neuron = 2*3 = 6. each input has 3 chars repr by 2d embeddings, 6 nums in total\n",
    "# -- num neurons = random eg. 100\n",
    "W1 = torch.randn((6, 100))\n",
    "b1 = torch.randn(100)\n",
    "\n",
    "# Want to get emb @ W1 + b (but cannot bc W1 (32, 2, 3) vs emb (6, 100)\n",
    "# -- want to concatenate the 3 embeddings for each input, (32, 3, 2) -> (32, 6)\n",
    "# -- torch.cat([emb[:, 0, :], emb[:, 1, :], emb[:, 0, :]], 1).shape \n",
    "# -- torch.cat(torch.unbind(emb, 1), 1).shape\n",
    "\n",
    "h = torch.tanh(emb.view(-1, 6) @ W1 + b1) # .view(-1, ) = .view(emb.shape[0], ) \n",
    "h.shape # activations of hidden layer "
   ]
  },
  {
   "cell_type": "markdown",
   "id": "1430a488",
   "metadata": {},
   "source": [
    "Note: \n",
    "`Tensor.view()`  \n",
    "\n",
    "Returns a new tensor with the same data as the self tensor but of a different shape. The returned tensor shares the same data and must have the same number of elements, but may have a different size \n",
    "\n",
    "Also could have done: \n",
    "`torch.cat(tensors, dim=0, *, out=None)`\n",
    "\n",
    "Concatenates the given sequence of tensors in tensors in the given dimension.\n",
    "```x = torch.randn(2, 3)\n",
    "x\n",
    "tensor([[ 0.2, 0.4, 0.6],\n",
    "        [ 0.1, 0.3, 0.5]])\n",
    "torch.cat((x, x, x), 0)\n",
    "tensor([[ 0.2, 0.4, 0.6],\n",
    "        [ 0.1, 0.3, 0.5]],\n",
    "        [ 0.2, 0.4, 0.6],\n",
    "        [ 0.1, 0.3, 0.5],\n",
    "        [ 0.2, 0.4, 0.6],\n",
    "        [ 0.1, 0.3, 0.5])\n",
    "torch.cat((x, x, x), 1)\n",
    "tensor([[ 0.2, 0.4, 0.6, 0.2, 0.4, 0.6, 0.2, 0.4, 0.6],\n",
    "        [ 0.1, 0.3, 0.5, 0.1, 0.3, 0.5, 0.1, 0.3, 0.5]])\n",
    "```\n",
    "\n",
    "`torch.unbind(input, dim=0)`\n",
    "\n",
    "```x\n",
    "torch.unbind(torch.tensor([[1, 2, 3],\n",
    "                            [4, 5, 6],\n",
    "                            [7, 8, 9]]))\n",
    "(tensor([1, 2, 3]), tensor([4, 5, 6]), tensor([7, 8, 9]))\n",
    "```\n"
   ]
  },
  {
   "cell_type": "code",
   "execution_count": 29,
   "id": "55ded0ab",
   "metadata": {},
   "outputs": [
    {
     "data": {
      "text/plain": [
       "torch.Size([32, 27])"
      ]
     },
     "execution_count": 29,
     "metadata": {},
     "output_type": "execute_result"
    }
   ],
   "source": [
    "# Output layer \n",
    "\n",
    "# Setting up params \n",
    "# -- num of weights per neuron = input = 100\n",
    "# -- num neurons = 27 since 27 possible characters \n",
    "W2 = torch.randn((100, 27))\n",
    "b2 = torch.randn(27)\n",
    "\n",
    "logits = h @ W2 + b2 \n",
    "counts = logits.exp()\n",
    "prob = counts/counts.sum() \n",
    "prob.shape # probability distributions for each of the 32 examples "
   ]
  },
  {
   "cell_type": "code",
   "execution_count": null,
   "id": "f49c128a",
   "metadata": {},
   "outputs": [
    {
     "data": {
      "text/plain": [
       "tensor([2.0030e-16, 4.6233e-14, 6.9732e-20, 1.7710e-16, 7.1951e-17, 5.2815e-11,\n",
       "        9.7539e-14, 1.6738e-14, 9.3267e-12, 8.6354e-14, 1.4816e-18, 1.7323e-10,\n",
       "        3.6430e-20, 3.8814e-17, 9.5210e-12, 1.2771e-11, 1.1570e-14, 3.3373e-14,\n",
       "        3.8587e-16, 9.9196e-16, 2.0572e-11, 1.3781e-15, 5.9009e-15, 2.5608e-12,\n",
       "        3.4968e-13, 1.1331e-13, 5.2701e-09, 2.3471e-15, 3.7335e-12, 4.0953e-08,\n",
       "        2.3728e-17, 2.1238e-15])"
      ]
     },
     "execution_count": 30,
     "metadata": {},
     "output_type": "execute_result"
    }
   ],
   "source": [
    "prob[torch.arange(32), Y] \n",
    "#returns probabilities assigned by model to each of the correct answers for 32 examples "
   ]
  },
  {
   "cell_type": "code",
   "execution_count": 31,
   "id": "34b77386",
   "metadata": {},
   "outputs": [
    {
     "data": {
      "text/plain": [
       "tensor(31.2446)"
      ]
     },
     "execution_count": 31,
     "metadata": {},
     "output_type": "execute_result"
    }
   ],
   "source": [
    "loss = -prob[torch.arange(32), Y].log().mean()\n",
    "loss"
   ]
  },
  {
   "cell_type": "markdown",
   "id": "14dee9a5",
   "metadata": {},
   "source": [
    "Use `F.cross_entropy` instead of \n",
    "```\n",
    "counts = logits.exp()\n",
    "prob = counts/counts.sum() \n",
    "```\n",
    "\n",
    "Why use F.cross_entropy? when used\n",
    "1. Pytorch will not create all the extra tensors (counts, prob) in memory and will have fused kernels that compute it effieicntly. \n",
    "2. Mathematically and analytically simpler (works similar to how we derive derivative of tanh directly instead of bsack rpop through complicated func)\n",
    "3. Numerically more well behaved. If we implement ourselves, cannot pass very large numbers as logits bc later take exp. Pytorch solves this"
   ]
  },
  {
   "cell_type": "markdown",
   "id": "7f004478",
   "metadata": {},
   "source": [
    "### Cleaned up version "
   ]
  },
  {
   "cell_type": "code",
   "execution_count": 108,
   "id": "80bb6003",
   "metadata": {},
   "outputs": [
    {
     "data": {
      "text/plain": [
       "(torch.Size([182437, 3]), torch.Size([182437]))"
      ]
     },
     "execution_count": 108,
     "metadata": {},
     "output_type": "execute_result"
    }
   ],
   "source": [
    "Xtr.shape, Ytr.shape"
   ]
  },
  {
   "cell_type": "code",
   "execution_count": null,
   "id": "ea5d6273",
   "metadata": {},
   "outputs": [
    {
     "data": {
      "text/plain": [
       "6097"
      ]
     },
     "execution_count": 122,
     "metadata": {},
     "output_type": "execute_result"
    }
   ],
   "source": [
    "g = torch.Generator().manual_seed(2147483647)\n",
    "\n",
    "# Lookup table of embeddings for each char - 2 dimensional\n",
    "C = torch.randn((27, 2), generator=g) \n",
    "\n",
    "# Params for hidden layer, 100 neurons, 6 weights each (3 chars' 2d embeddings inputted)\n",
    "W1 = torch.randn((6, 100), generator=g) \n",
    "b1 = torch.randn(100, generator=g)\n",
    "\n",
    "# Params for hidden layer, 27 neurons, 100 weights each (100 activations from hidden layer inputted )\n",
    "W2 = torch.randn((100, 27), generator=g)\n",
    "b2 = torch.randn(27, generator=g)\n",
    "\n",
    "parameters = [C, W1, b1, W2, b2]\n",
    "for p in parameters: \n",
    "    p.requires_grad = True\n",
    "    \n",
    "sum(p.nelement() for p in parameters) # total num of params\n"
   ]
  },
  {
   "cell_type": "markdown",
   "id": "e5230846",
   "metadata": {},
   "source": [
    "**Minibatch** \n",
    "Because it takes very long to train on 228146 examples, each time we want to take a batch of it and train on it. Its much better to have an approx gradient and take much more steps than have an exact gradient and take fewer steps. "
   ]
  },
  {
   "cell_type": "code",
   "execution_count": null,
   "id": "53993978",
   "metadata": {},
   "outputs": [
    {
     "name": "stdout",
     "output_type": "stream",
     "text": [
      "2.255797863006592\n"
     ]
    }
   ],
   "source": [
    "# Gradient descent with minibatch \n",
    "\n",
    "for _ in range(20000): \n",
    "    \n",
    "    # minibatch construct: get random batch of 32 between 0 and 228146\n",
    "    ix = torch.randint(0, Xtr.shape[0], (32,))\n",
    "\n",
    "    # forward pass \n",
    "    emb = C[Xtr[ix]] # (32, 3, 2)\n",
    "    h = torch.tanh(emb.view(-1, 6) @ W1 + b1)  # (32, 100)\n",
    "    logits = h @ W2 + b2 # (32, 27)\n",
    "    loss = F.cross_entropy(logits, Ytr[ix]) \n",
    "\n",
    "    # backward pass \n",
    "    for p in parameters: \n",
    "        p.grad = None\n",
    "    loss.backward()\n",
    "\n",
    "    # update \n",
    "    for p in parameters: \n",
    "        p.data += -0.1 * p.grad\n",
    "print(loss.item())"
   ]
  },
  {
   "cell_type": "code",
   "execution_count": 120,
   "id": "ee1a8ea1",
   "metadata": {},
   "outputs": [
    {
     "name": "stdout",
     "output_type": "stream",
     "text": [
      "2.3205275535583496\n"
     ]
    }
   ],
   "source": [
    "# valuate loss \n",
    "emb = C[Xdev]\n",
    "h = torch.tanh(emb.view(-1, 6) @ W1 + b1) # \n",
    "logits = h @ W2 + b2 # (32, 27)\n",
    "loss = F.cross_entropy(logits, Ydev)\n",
    "print(loss.item())"
   ]
  },
  {
   "cell_type": "markdown",
   "id": "25a0faeb",
   "metadata": {},
   "source": [
    "Since training and dev losses are roughly equal, means that it is underfitting. Bottleneck for our model may be either: \n",
    "* Size of neural network --> Increase num neurons and hence num params\n",
    "* 2d embeddings (may not be large enough space for 27 chars)--> increase to 3 or more dimensional vector embeddings \n",
    "\n",
    "To further improve loss: \n",
    "* Increase size of neural network\n",
    "* Increase dimentionality of embedding \n",
    "* Details of optimisation - learning rate decay, batch size\n",
    "* Increase block size (num characters in context)"
   ]
  },
  {
   "cell_type": "code",
   "execution_count": 121,
   "id": "7e4bbd9e",
   "metadata": {},
   "outputs": [
    {
     "data": {
      "image/png": "[encoded data removed]",
      "text/plain": [
       "<Figure size 800x800 with 1 Axes>"
      ]
     },
     "metadata": {},
     "output_type": "display_data"
    }
   ],
   "source": [
    "# Visualising the embeddings\n",
    "plt.figure(figsize=(8,8))\n",
    "plt.scatter(C[:,0].data, C[:,1].data, s=200)\n",
    "for i in range(C.shape[0]): \n",
    "    plt.text(C[i,0].item(), C[i,1].item(), itos[i], ha='center', va='center', color='white')\n",
    "plt.grid('minor')"
   ]
  },
  {
   "cell_type": "markdown",
   "id": "59a2c1ad",
   "metadata": {},
   "source": [
    "p is treated as a special character. points close together are seen as interchangeable/similar "
   ]
  },
  {
   "cell_type": "markdown",
   "id": "a2999da8",
   "metadata": {},
   "source": [
    "### How to find the right learning rate\n",
    "Reset params, try learning rate where its too small eg -0.001 and too big -1(unstable). Create set of lrs between -0.001 and -1, and try for all of them"
   ]
  },
  {
   "cell_type": "code",
   "execution_count": 77,
   "id": "4635703b",
   "metadata": {},
   "outputs": [],
   "source": [
    "lre = torch.linspace(-3, 0, 1000) # test lr from 10^-3 to 10^0\n",
    "lrs = 10**lre"
   ]
  },
  {
   "cell_type": "code",
   "execution_count": null,
   "id": "18fbcc67",
   "metadata": {},
   "outputs": [
    {
     "data": {
      "text/plain": [
       "[<matplotlib.lines.Line2D at 0x1581e2c10>]"
      ]
     },
     "execution_count": 78,
     "metadata": {},
     "output_type": "execute_result"
    },
    {
     "data": {
      "image/png": "[encoded data removed]",
      "text/plain": [
       "<Figure size 640x480 with 1 Axes>"
      ]
     },
     "metadata": {},
     "output_type": "display_data"
    }
   ],
   "source": [
    "# Gradient descent, testing learning rates  \n",
    "\n",
    "# lr trackers\n",
    "lri = []\n",
    "lossi = []\n",
    "\n",
    "for i in range(1000): \n",
    "    \n",
    "    # minibatch construct: random batch of 32\n",
    "    ix = torch.randint(0, Xtr.shape[0], (32,)) \n",
    "\n",
    "    # forward pass \n",
    "    emb = C[Xtr[ix]] # (32, 3, 2)\n",
    "    h = torch.tanh(emb.view(-1, 6) @ W1 + b1)  # (32, 100)\n",
    "    logits = h @ W2 + b2 # (32, 27)\n",
    "    loss = F.cross_entropy(logits, Y[ix]) \n",
    "\n",
    "    # backward pass \n",
    "    for p in parameters: \n",
    "        p.grad = None\n",
    "    loss.backward()\n",
    "\n",
    "    # update \n",
    "    lr = lrs[i]\n",
    "    for p in parameters: \n",
    "        p.data += -lr * p.grad\n",
    "\n",
    "    # track\n",
    "    lri.append(lre[i])\n",
    "    lossi.append(loss.item())\n",
    "\n",
    "plt.plot(lri, lossi)"
   ]
  },
  {
   "cell_type": "markdown",
   "id": "2f5f06c5",
   "metadata": {},
   "source": [
    "This means a good lre is -1.0, meaning 10**-1 = 0.1."
   ]
  }
 ],
 "metadata": {
  "kernelspec": {
   "display_name": ".venv (3.12.1)",
   "language": "python",
   "name": "python3"
  },
  "language_info": {
   "codemirror_mode": {
    "name": "ipython",
    "version": 3
   },
   "file_extension": ".py",
   "mimetype": "text/x-python",
   "name": "python",
   "nbconvert_exporter": "python",
   "pygments_lexer": "ipython3",
   "version": "3.12.1"
  }
 },
 "nbformat": 4,
 "nbformat_minor": 5
}
